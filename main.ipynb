{
  "cells": [
    {
      "cell_type": "markdown",
      "metadata": {
        "id": "fQcvdlwdimQb"
      },
      "source": [
        "**Оцінювання даної роботи буде ураховувати якість Вашого коду та текстових відповідей. При наявності ЛИШЕ коду , робота оцінюватися НЕ БУДЕ.**  \n",
        "\n",
        "**Оформлення текстових відповідей повинно проводитися в текстових комірках ноутбука з використанням синтаксису [LaTeX](https://en.wikibooks.org/wiki/LaTeX/Basics) для оформлення тексту та формул.**\n",
        "\n",
        "**Роботи ідентифіковані як ІДЕНТИЧНІ одразу отримують 0 балів.**\n",
        "\n",
        "**При реалізації завдань потрібно використовувати методи з бібліотеки numpy та pandas.**\n",
        "\n",
        "**Рішення з циклами будуть оцінені в 0 балів.**"
      ]
    },
    {
      "cell_type": "markdown",
      "metadata": {
        "id": "UfI7FZudfGwv"
      },
      "source": [
        "# I. NumPy."
      ]
    },
    {
      "cell_type": "markdown",
      "metadata": {
        "id": "XmA3PWg8fJxn"
      },
      "source": [
        "0. Імпортувати numpy загальноприйнятим способом."
      ]
    },
    {
      "cell_type": "code",
      "execution_count": 793,
      "metadata": {
        "id": "JUli5tR8eTXG"
      },
      "outputs": [],
      "source": [
        "import numpy as np\n",
        "from faker import Faker"
      ]
    },
    {
      "cell_type": "markdown",
      "metadata": {
        "id": "fppWPwoFjTrl"
      },
      "source": [
        "1. Визначити список з оцінками студента(ки) за семестр. Використовуючи його, створити одновимірний масив numpy."
      ]
    },
    {
      "cell_type": "code",
      "execution_count": 794,
      "metadata": {
        "id": "cuvs9lNAjVoB"
      },
      "outputs": [
        {
          "data": {
            "text/plain": [
              "array([87, 23, 83, 12])"
            ]
          },
          "execution_count": 794,
          "metadata": {},
          "output_type": "execute_result"
        }
      ],
      "source": [
        "student_marks = np.array([87, 23, 83, 12])\n",
        "\n",
        "student_marks"
      ]
    },
    {
      "cell_type": "markdown",
      "metadata": {
        "id": "OGeLtAwcjcMB"
      },
      "source": [
        "2. Визначити список зі списками, де кожен рядок списку формально означає магазин, а кожна колонка - певний продукт (батон, яйця першої категорії, молоко та ковбаса), а елементами на пересічі є ціни на ці продукти відповідно. Використовуючи цей список, створити матрицю (двовимірний масив) numpy."
      ]
    },
    {
      "cell_type": "code",
      "execution_count": 795,
      "metadata": {
        "id": "zJ9kEAv5jcVo"
      },
      "outputs": [
        {
          "data": {
            "text/plain": [
              "array([[ 50, 100,  70, 120],\n",
              "       [ 47,  93,  75, 101],\n",
              "       [ 45, 106,  71,  99]])"
            ]
          },
          "execution_count": 795,
          "metadata": {},
          "output_type": "execute_result"
        }
      ],
      "source": [
        "market = np.array([\n",
        "    [50, 100, 70, 120], \n",
        "    [47, 93, 75, 101], \n",
        "    [45, 106, 71, 99], \n",
        "])\n",
        "\n",
        "market"
      ]
    },
    {
      "cell_type": "markdown",
      "metadata": {
        "id": "wK7wrEw2jcix"
      },
      "source": [
        "3. Отримайте тип даних значень з масивів завдань 2 та 3. Виведіть їх на екран."
      ]
    },
    {
      "cell_type": "code",
      "execution_count": 796,
      "metadata": {
        "id": "uDBL1x6vjcq9"
      },
      "outputs": [
        {
          "name": "stdout",
          "output_type": "stream",
          "text": [
            "int64\n",
            "int64\n"
          ]
        }
      ],
      "source": [
        "print(market.dtype)\n",
        "print(student_marks.dtype)"
      ]
    },
    {
      "cell_type": "markdown",
      "metadata": {
        "id": "nNhAgsC3jcyp"
      },
      "source": [
        "4. Отримайте форми (кортеж з кількістю рядків та колонок) масивів завдань 2 та 3. Виведіть їх на екран."
      ]
    },
    {
      "cell_type": "code",
      "execution_count": 797,
      "metadata": {
        "id": "Fi5oXTI8jc4-"
      },
      "outputs": [
        {
          "name": "stdout",
          "output_type": "stream",
          "text": [
            "(3, 4)\n",
            "(4,)\n"
          ]
        }
      ],
      "source": [
        "print(market.shape)\n",
        "print(student_marks.shape)"
      ]
    },
    {
      "cell_type": "markdown",
      "metadata": {
        "id": "bpY-N8QZjdW-"
      },
      "source": [
        "5. Створіть одновимірний масив за допомогою спеціальної функції numpy, який би відображав динаміку стабільно зростаючого (з рівними проміжками) прибутку з продажів  за тиждень, де у перший день не було продажів, а в останній день тижня вдалося заробити 1000 грн 50 коп."
      ]
    },
    {
      "cell_type": "code",
      "execution_count": 798,
      "metadata": {
        "id": "r3LcjnUKjdeu"
      },
      "outputs": [
        {
          "data": {
            "text/plain": [
              "array([   0.  ,  166.75,  333.5 ,  500.25,  667.  ,  833.75, 1000.5 ])"
            ]
          },
          "execution_count": 798,
          "metadata": {},
          "output_type": "execute_result"
        }
      ],
      "source": [
        "weekly_dynamic_profit = np.linspace(0, 1000.50, 7)\n",
        "\n",
        "weekly_dynamic_profit"
      ]
    },
    {
      "cell_type": "markdown",
      "metadata": {
        "id": "zQM0SY9jjebO"
      },
      "source": [
        "6. Створіть два масиви. Використовуючи їх, продемонструйте відмінність вертикального та горизонтального обʼєднання масивів."
      ]
    },
    {
      "cell_type": "code",
      "execution_count": 799,
      "metadata": {
        "id": "8uoi0_lxjeh-"
      },
      "outputs": [
        {
          "name": "stdout",
          "output_type": "stream",
          "text": [
            "[[ 1  2  3]\n",
            " [ 4  5  6]\n",
            " [ 7  8  9]\n",
            " [10 11 12]\n",
            " [13 14 15]\n",
            " [16 17 18]] \n",
            "\n",
            "[[ 1  2  3 10 11 12]\n",
            " [ 4  5  6 13 14 15]\n",
            " [ 7  8  9 16 17 18]]\n"
          ]
        }
      ],
      "source": [
        "array1 = np.array([\n",
        "    [1,2,3],\n",
        "    [4,5,6],\n",
        "    [7,8,9]\n",
        "])\n",
        "\n",
        "array2 = np.array([\n",
        "    [10,11,12],\n",
        "    [13,14,15],\n",
        "    [16,17,18]\n",
        "])\n",
        "\n",
        "vertical_merge = np.vstack((array1, array2))\n",
        "horisontal_merge = np.hstack((array1, array2))\n",
        "\n",
        "print(vertical_merge, \"\\n\")\n",
        "print(horisontal_merge)"
      ]
    },
    {
      "cell_type": "markdown",
      "metadata": {
        "id": "Fwh5D1pDm3t7"
      },
      "source": [
        "7. Визначити функцію, яка приймає на вході масив і транспонує його. Скористайтесь методом reshape. І не забудьте почати з docstrings."
      ]
    },
    {
      "cell_type": "code",
      "execution_count": 800,
      "metadata": {
        "id": "FSWZq0mkm31Z"
      },
      "outputs": [
        {
          "name": "stdout",
          "output_type": "stream",
          "text": [
            "[[ 1  2  3  4]\n",
            " [ 5  6  7  8]\n",
            " [ 9 10 11 12]] \n",
            "\n",
            "[[ 1  2  3]\n",
            " [ 4  5  6]\n",
            " [ 7  8  9]\n",
            " [10 11 12]]\n"
          ]
        }
      ],
      "source": [
        "def transpose_array(array):\n",
        "    \"\"\"\n",
        "    Transpose matrix\n",
        "\n",
        "    Parameters:\n",
        "    array (numpy.ndarray): The input matrix to be transposed.\n",
        "\n",
        "    Returns:\n",
        "    numpy.ndarray: The transposed array.\n",
        "    \"\"\"\n",
        "\n",
        "    rows = array.shape[0]\n",
        "    cols = array.shape[1]\n",
        "\n",
        "    return np.reshape(array, (cols, rows))\n",
        "\n",
        "array = np.array([\n",
        "    [1,2,3,4],\n",
        "    [5,6,7,8],\n",
        "    [9,10,11,12],\n",
        "])\n",
        "\n",
        "reshaped_array = transpose_array(array)\n",
        "\n",
        "print(array, \"\\n\")\n",
        "print(reshaped_array)\n"
      ]
    },
    {
      "cell_type": "markdown",
      "metadata": {
        "id": "Nnxk8vqYm379"
      },
      "source": [
        "8. Створіть два масиви. Використовучи ці масиви, продемонструйте 1) операцію по-елементного додавання, 2) операцію по-елементного віднімання, 3) множення масиву на число, 4) операцію по-елементного множення, і 5) матричного множення."
      ]
    },
    {
      "cell_type": "code",
      "execution_count": 801,
      "metadata": {
        "id": "qO1rfvmVm4BI"
      },
      "outputs": [
        {
          "name": "stdout",
          "output_type": "stream",
          "text": [
            "[5 7 9]\n",
            "[-3 -3 -3]\n",
            "[ 5 10 15]\n",
            "[ 4 10 18]\n",
            "32\n"
          ]
        }
      ],
      "source": [
        "array1 = np.array([1, 2, 3])\n",
        "array2 = np.array([4, 5, 6])\n",
        "\n",
        "add = array1 + array2\n",
        "sub = array1 - array2\n",
        "scalar_mult = array1 * 5\n",
        "el_mult = array1 * array2\n",
        "matrix_mult = np.dot(array1, array2.T)\n",
        "\n",
        "print(add)\n",
        "print(sub)\n",
        "print(scalar_mult)\n",
        "print(el_mult)\n",
        "print(matrix_mult)"
      ]
    },
    {
      "cell_type": "markdown",
      "metadata": {
        "id": "7aGdszTGuMCC"
      },
      "source": [
        "9. Створіть двовимірний масив (матрицю) та розрахуйте: 1) мінімальне число, 2) максимальне число, 3) суму чисел, 4) мінімальні числа для кожного рядка, 5) максимальні числа для кожного стовпчика."
      ]
    },
    {
      "cell_type": "code",
      "execution_count": 802,
      "metadata": {
        "id": "RL_39YdauMKS"
      },
      "outputs": [
        {
          "name": "stdout",
          "output_type": "stream",
          "text": [
            "1\n",
            "6\n",
            "21\n",
            "[1 4]\n",
            "[4 5 6]\n"
          ]
        }
      ],
      "source": [
        "array = np.array([\n",
        "    [1,2,3],\n",
        "    [4,5,6]\n",
        "])\n",
        "\n",
        "print(array.min())\n",
        "print(array.max())\n",
        "print(array.sum())\n",
        "print(array.min(axis=1))\n",
        "print(array.max(axis=0))"
      ]
    },
    {
      "cell_type": "markdown",
      "metadata": {
        "id": "c_hNdOpjHRFo"
      },
      "source": [
        "10. Створіть матрицю , де деякі елементи повторюються. Знайдіть унікальні значення елементів цієї матриці та їхні частоти."
      ]
    },
    {
      "cell_type": "code",
      "execution_count": 803,
      "metadata": {},
      "outputs": [
        {
          "name": "stdout",
          "output_type": "stream",
          "text": [
            "[1 2 3 4]\n",
            "[3 3 2 2]\n"
          ]
        }
      ],
      "source": [
        "array = np.array([1, 2, 3, 4, 1, 2, 3, 4, 1, 2])\n",
        "\n",
        "print(np.unique(array, return_counts = True)[0])\n",
        "print(np.unique(array, return_counts = True)[1])"
      ]
    },
    {
      "cell_type": "markdown",
      "metadata": {
        "id": "Usj7tyjnprEV"
      },
      "source": [
        "# II. Importing. Creating DF"
      ]
    },
    {
      "cell_type": "markdown",
      "metadata": {
        "id": "ePGNrYa6pxRY"
      },
      "source": [
        "0. Імпортувати бібліотеку pandas"
      ]
    },
    {
      "cell_type": "code",
      "execution_count": 804,
      "metadata": {
        "id": "KIPDNBqQpvkI"
      },
      "outputs": [],
      "source": [
        "import pandas as pd"
      ]
    },
    {
      "cell_type": "markdown",
      "metadata": {
        "id": "8g9-hgi5qWJv"
      },
      "source": [
        "11. Створити тестовий датафрейм зі списку, що містить записи пацієнтів про їхні прізвища, імена, дату народження, масу тіла та наявність медичного страхування. Одне зі значень зробить пустим. Ознайомтесь з типом кожної колонки."
      ]
    },
    {
      "cell_type": "code",
      "execution_count": 805,
      "metadata": {
        "id": "OvA4GvJ5qYb1"
      },
      "outputs": [
        {
          "name": "stdout",
          "output_type": "stream",
          "text": [
            "   Last Name First Name Date of Birth  Weight  Has Insurance\n",
            "0       Hays       Emma    2001-04-14    57.0           True\n",
            "1      Jones     Daniel    2002-08-31    62.0          False\n",
            "2       Wood     Meghan    1944-02-17    98.0           True\n",
            "3     Medina  Elizabeth    1955-08-17    79.0           True\n",
            "4       Boyd     Joshua    1956-09-09    62.0           True\n",
            "5    Elliott     Daniel    2006-07-22    89.0           True\n",
            "6  Gutierrez     Donald    1969-03-08    82.0          False\n",
            "7      Barry      Shaun    1977-09-26    86.0           True\n",
            "8    Goodman     Cheryl    1974-11-17    51.0           True\n",
            "9    Ramirez      Brian    1950-05-05     NaN          False\n"
          ]
        }
      ],
      "source": [
        "fake = Faker()\n",
        "\n",
        "columns = [\"Last Name\", \"First Name\", \"Date of Birth\", \"Weight\", \"Has Insurance\"]\n",
        "\n",
        "data = []\n",
        "for row in range(10):\n",
        "    last_name = fake.last_name()\n",
        "    first_name = fake.first_name()\n",
        "    date_of_birth = fake.date_of_birth(minimum_age=18, maximum_age=90).strftime('%Y-%m-%d')\n",
        "    weight = np.nan if row == 9 else np.random.randint(50, 100)\n",
        "    has_insurance = fake.boolean()\n",
        "    data.append([last_name, first_name, date_of_birth, weight, has_insurance])\n",
        "\n",
        "test_df = pd.DataFrame(data, columns=columns)\n",
        "\n",
        "test_df[\"Date of Birth\"] = pd.to_datetime(test_df[\"Date of Birth\"])\n",
        "test_df[\"Weight\"] = pd.to_numeric(test_df[\"Weight\"], errors=\"coerce\")\n",
        "test_df[\"Has Insurance\"] = test_df[\"Has Insurance\"].astype(bool)\n",
        "\n",
        "print(test_df)"
      ]
    },
    {
      "cell_type": "markdown",
      "metadata": {
        "id": "b1SvVHjjqcv-"
      },
      "source": [
        "# III. Reading from file"
      ]
    },
    {
      "cell_type": "markdown",
      "metadata": {
        "id": "7HhZWLs_qhgq"
      },
      "source": [
        "12. Завантажити файл missile_attacks_daily.csv з [Kaggle](https://www.kaggle.com/datasets/piterfm/massive-missile-attacks-on-ukraine?select=missile_attacks_daily.csv). Ознайомитись з описом датасету. Додати файл до папки поточної сесії colab notebook на панелі ліворуч або на гугл диск (локально до проєкту, якщо працюєте у пайчармі). Зчитати датафрейм з файлу та вивести датафрейм на екран. Зверніть увагу на те, щоб всі колонки відповідали наведеним у описі типам даних."
      ]
    },
    {
      "cell_type": "code",
      "execution_count": 806,
      "metadata": {
        "id": "oQcB3kIqqg0h"
      },
      "outputs": [],
      "source": [
        "df = pd.read_csv(\"./datasets/missile_attacks_daily.csv\")"
      ]
    },
    {
      "cell_type": "code",
      "execution_count": 807,
      "metadata": {},
      "outputs": [
        {
          "name": "stdout",
          "output_type": "stream",
          "text": [
            "            time_start          time_end               model  \\\n",
            "0     2025-01-18 20:00  2025-01-19 09:00      Shahed-136/131   \n",
            "1     2025-01-17 19:00  2025-01-18 08:00      Shahed-136/131   \n",
            "2     2025-01-16 19:00  2025-01-17 09:00      Shahed-136/131   \n",
            "3     2025-01-16 19:00  2025-01-17 09:00    Iskander-M/KN-23   \n",
            "4     2025-01-16 19:00  2025-01-17 09:00          Iskander-M   \n",
            "...                ...               ...                 ...   \n",
            "2039  2022-10-01 12:00  2022-10-01 12:00            Orlan-10   \n",
            "2040        2022-09-30        2022-09-30            Orlan-10   \n",
            "2041  2022-09-29 23:00  2022-09-29 23:59      Shahed-136/131   \n",
            "2042        2022-09-28        2022-09-28                X-59   \n",
            "2043        2022-09-28        2022-09-28  Reconnaissance UAV   \n",
            "\n",
            "                                           launch_place  \\\n",
            "0         Bryansk oblast and Oryol oblast and Millerovo   \n",
            "1     Primorsko-Akhtarsk and Bryansk oblast and Mill...   \n",
            "2     Primorsko-Akhtarsk and Kursk oblast and Bryans...   \n",
            "3                    Bryansk oblast and Voronezh oblast   \n",
            "4                                         Rostov oblast   \n",
            "...                                                 ...   \n",
            "2039                                                NaN   \n",
            "2040                                                NaN   \n",
            "2041                                                NaN   \n",
            "2042                                                NaN   \n",
            "2043                                                NaN   \n",
            "\n",
            "                                             target carrier  launched  \\\n",
            "0                                           Ukraine     NaN      61.0   \n",
            "1                                           Ukraine     NaN      39.0   \n",
            "2                                           Ukraine     NaN      50.0   \n",
            "3                                       Kyiv oblast     NaN       4.0   \n",
            "4                                           Ukraine     NaN       2.0   \n",
            "...                                             ...     ...       ...   \n",
            "2039                                        Ukraine     NaN       1.0   \n",
            "2040                                        Ukraine     NaN       3.0   \n",
            "2041               Odesa oblast and Mykolaiv oblast     NaN       7.0   \n",
            "2042  Dnipropetrovsk oblast and Zaporizhzhia oblast   Su-35       5.0   \n",
            "2043                                        Ukraine     NaN       3.0   \n",
            "\n",
            "      destroyed  not_reach_goal  cross_border_belarus  back_russia  \\\n",
            "0            43            15.0                   NaN          NaN   \n",
            "1            24            14.0                   NaN          NaN   \n",
            "2            33             9.0                   NaN          NaN   \n",
            "3             2             NaN                   NaN          NaN   \n",
            "4             0             NaN                   NaN          NaN   \n",
            "...         ...             ...                   ...          ...   \n",
            "2039          1             NaN                   NaN          NaN   \n",
            "2040          3             NaN                   NaN          NaN   \n",
            "2041          5             NaN                   NaN          NaN   \n",
            "2042          4             NaN                   NaN          NaN   \n",
            "2043          3             NaN                   NaN          NaN   \n",
            "\n",
            "      still_attacking                                  destroyed_details  \\\n",
            "0                 1.0  {'Mykolaiv oblast': NaN,    'Kyiv oblast': NaN...   \n",
            "1                 NaN  {'Kherson oblast': NaN, 'Khmelnytskyi oblast':...   \n",
            "2                 NaN  {'Odesa oblast and Mykolaiv oblast': 7, 'Khmel...   \n",
            "3                 NaN                                                NaN   \n",
            "4                 NaN                                                NaN   \n",
            "...               ...                                                ...   \n",
            "2039              NaN                                                NaN   \n",
            "2040              NaN                                                NaN   \n",
            "2041              NaN                                                NaN   \n",
            "2042              NaN                                                NaN   \n",
            "2043              NaN                                                NaN   \n",
            "\n",
            "     launched_details launch_place_details  \\\n",
            "0                 NaN                  NaN   \n",
            "1                 NaN                  NaN   \n",
            "2                 NaN                  NaN   \n",
            "3                 NaN                  NaN   \n",
            "4                 NaN                  NaN   \n",
            "...               ...                  ...   \n",
            "2039              NaN                  NaN   \n",
            "2040              NaN                  NaN   \n",
            "2041              NaN                  NaN   \n",
            "2042              NaN                  NaN   \n",
            "2043              NaN                  NaN   \n",
            "\n",
            "                                                 source  \n",
            "0     kpszsu/posts/pfbid0meYNAsX4voALE4SXunVpzKTwzrJ...  \n",
            "1     kpszsu/posts/pfbid0Rpzfu7u9ERu4o49Gm12eqSogKvZ...  \n",
            "2     kpszsu/posts/pfbid0Gvye9Wn2gj8RPiiGaTQFGRas9Yg...  \n",
            "3     kpszsu/posts/pfbid0Rpzfu7u9ERu4o49Gm12eqSogKvZ...  \n",
            "4     kpszsu/posts/pfbid0Gvye9Wn2gj8RPiiGaTQFGRas9Yg...  \n",
            "...                                                 ...  \n",
            "2039                           watch/?v=375517448001233  \n",
            "2040  kpszsu/posts/pfbid0nELeXY4BpHrezv54Lk3gWPZJmcC...  \n",
            "2041  kpszsu/posts/pfbid021aK2TqryAuB8gGrDYMTv3R8Xiu...  \n",
            "2042  kpszsu/posts/pfbid02sjn5m7kosAfsm5bSUzpPwbLuH3...  \n",
            "2043  kpszsu/posts/pfbid0grmBx6A5LbQ7PVTkSx7jTDgg4iU...  \n",
            "\n",
            "[2044 rows x 16 columns]\n",
            "time_start               object\n",
            "time_end                 object\n",
            "model                    object\n",
            "launch_place             object\n",
            "target                   object\n",
            "carrier                  object\n",
            "launched                float64\n",
            "destroyed                 int64\n",
            "not_reach_goal          float64\n",
            "cross_border_belarus    float64\n",
            "back_russia             float64\n",
            "still_attacking         float64\n",
            "destroyed_details        object\n",
            "launched_details         object\n",
            "launch_place_details     object\n",
            "source                   object\n",
            "dtype: object\n"
          ]
        }
      ],
      "source": [
        "print(df)\n",
        "print(df.dtypes)"
      ]
    },
    {
      "cell_type": "markdown",
      "metadata": {
        "id": "89zu0WNErzd2"
      },
      "source": [
        "# IV. Data understanding"
      ]
    },
    {
      "cell_type": "markdown",
      "metadata": {
        "id": "LJqrTfHr2d1G"
      },
      "source": [
        "13. Виведіть на екран перші 10 рядків зчитаного датафрейму."
      ]
    },
    {
      "cell_type": "code",
      "execution_count": 808,
      "metadata": {
        "id": "GdVE9WYwr1sD"
      },
      "outputs": [
        {
          "data": {
            "text/html": [
              "<div>\n",
              "<style scoped>\n",
              "    .dataframe tbody tr th:only-of-type {\n",
              "        vertical-align: middle;\n",
              "    }\n",
              "\n",
              "    .dataframe tbody tr th {\n",
              "        vertical-align: top;\n",
              "    }\n",
              "\n",
              "    .dataframe thead th {\n",
              "        text-align: right;\n",
              "    }\n",
              "</style>\n",
              "<table border=\"1\" class=\"dataframe\">\n",
              "  <thead>\n",
              "    <tr style=\"text-align: right;\">\n",
              "      <th></th>\n",
              "      <th>time_start</th>\n",
              "      <th>time_end</th>\n",
              "      <th>model</th>\n",
              "      <th>launch_place</th>\n",
              "      <th>target</th>\n",
              "      <th>carrier</th>\n",
              "      <th>launched</th>\n",
              "      <th>destroyed</th>\n",
              "      <th>not_reach_goal</th>\n",
              "      <th>cross_border_belarus</th>\n",
              "      <th>back_russia</th>\n",
              "      <th>still_attacking</th>\n",
              "      <th>destroyed_details</th>\n",
              "      <th>launched_details</th>\n",
              "      <th>launch_place_details</th>\n",
              "      <th>source</th>\n",
              "    </tr>\n",
              "  </thead>\n",
              "  <tbody>\n",
              "    <tr>\n",
              "      <th>0</th>\n",
              "      <td>2025-01-18 20:00</td>\n",
              "      <td>2025-01-19 09:00</td>\n",
              "      <td>Shahed-136/131</td>\n",
              "      <td>Bryansk oblast and Oryol oblast and Millerovo</td>\n",
              "      <td>Ukraine</td>\n",
              "      <td>NaN</td>\n",
              "      <td>61.0</td>\n",
              "      <td>43</td>\n",
              "      <td>15.0</td>\n",
              "      <td>NaN</td>\n",
              "      <td>NaN</td>\n",
              "      <td>1.0</td>\n",
              "      <td>{'Mykolaiv oblast': NaN,    'Kyiv oblast': NaN...</td>\n",
              "      <td>NaN</td>\n",
              "      <td>NaN</td>\n",
              "      <td>kpszsu/posts/pfbid0meYNAsX4voALE4SXunVpzKTwzrJ...</td>\n",
              "    </tr>\n",
              "    <tr>\n",
              "      <th>1</th>\n",
              "      <td>2025-01-17 19:00</td>\n",
              "      <td>2025-01-18 08:00</td>\n",
              "      <td>Shahed-136/131</td>\n",
              "      <td>Primorsko-Akhtarsk and Bryansk oblast and Mill...</td>\n",
              "      <td>Ukraine</td>\n",
              "      <td>NaN</td>\n",
              "      <td>39.0</td>\n",
              "      <td>24</td>\n",
              "      <td>14.0</td>\n",
              "      <td>NaN</td>\n",
              "      <td>NaN</td>\n",
              "      <td>NaN</td>\n",
              "      <td>{'Kherson oblast': NaN, 'Khmelnytskyi oblast':...</td>\n",
              "      <td>NaN</td>\n",
              "      <td>NaN</td>\n",
              "      <td>kpszsu/posts/pfbid0Rpzfu7u9ERu4o49Gm12eqSogKvZ...</td>\n",
              "    </tr>\n",
              "    <tr>\n",
              "      <th>2</th>\n",
              "      <td>2025-01-16 19:00</td>\n",
              "      <td>2025-01-17 09:00</td>\n",
              "      <td>Shahed-136/131</td>\n",
              "      <td>Primorsko-Akhtarsk and Kursk oblast and Bryans...</td>\n",
              "      <td>Ukraine</td>\n",
              "      <td>NaN</td>\n",
              "      <td>50.0</td>\n",
              "      <td>33</td>\n",
              "      <td>9.0</td>\n",
              "      <td>NaN</td>\n",
              "      <td>NaN</td>\n",
              "      <td>NaN</td>\n",
              "      <td>{'Odesa oblast and Mykolaiv oblast': 7, 'Khmel...</td>\n",
              "      <td>NaN</td>\n",
              "      <td>NaN</td>\n",
              "      <td>kpszsu/posts/pfbid0Gvye9Wn2gj8RPiiGaTQFGRas9Yg...</td>\n",
              "    </tr>\n",
              "    <tr>\n",
              "      <th>3</th>\n",
              "      <td>2025-01-16 19:00</td>\n",
              "      <td>2025-01-17 09:00</td>\n",
              "      <td>Iskander-M/KN-23</td>\n",
              "      <td>Bryansk oblast and Voronezh oblast</td>\n",
              "      <td>Kyiv oblast</td>\n",
              "      <td>NaN</td>\n",
              "      <td>4.0</td>\n",
              "      <td>2</td>\n",
              "      <td>NaN</td>\n",
              "      <td>NaN</td>\n",
              "      <td>NaN</td>\n",
              "      <td>NaN</td>\n",
              "      <td>NaN</td>\n",
              "      <td>NaN</td>\n",
              "      <td>NaN</td>\n",
              "      <td>kpszsu/posts/pfbid0Rpzfu7u9ERu4o49Gm12eqSogKvZ...</td>\n",
              "    </tr>\n",
              "    <tr>\n",
              "      <th>4</th>\n",
              "      <td>2025-01-16 19:00</td>\n",
              "      <td>2025-01-17 09:00</td>\n",
              "      <td>Iskander-M</td>\n",
              "      <td>Rostov oblast</td>\n",
              "      <td>Ukraine</td>\n",
              "      <td>NaN</td>\n",
              "      <td>2.0</td>\n",
              "      <td>0</td>\n",
              "      <td>NaN</td>\n",
              "      <td>NaN</td>\n",
              "      <td>NaN</td>\n",
              "      <td>NaN</td>\n",
              "      <td>NaN</td>\n",
              "      <td>NaN</td>\n",
              "      <td>NaN</td>\n",
              "      <td>kpszsu/posts/pfbid0Gvye9Wn2gj8RPiiGaTQFGRas9Yg...</td>\n",
              "    </tr>\n",
              "    <tr>\n",
              "      <th>5</th>\n",
              "      <td>2025-01-15 20:00</td>\n",
              "      <td>2025-01-16 09:00</td>\n",
              "      <td>Shahed-136/131</td>\n",
              "      <td>Primorsko-Akhtarsk and Bryansk oblast and Oryo...</td>\n",
              "      <td>Ukraine</td>\n",
              "      <td>NaN</td>\n",
              "      <td>55.0</td>\n",
              "      <td>34</td>\n",
              "      <td>18.0</td>\n",
              "      <td>NaN</td>\n",
              "      <td>NaN</td>\n",
              "      <td>NaN</td>\n",
              "      <td>{'Mykolaiv oblast': 5, 'Kyiv oblast': NaN, 'Su...</td>\n",
              "      <td>NaN</td>\n",
              "      <td>NaN</td>\n",
              "      <td>kpszsu/posts/pfbid0tPwzQHvvr63PbehDshED2WNV2vm...</td>\n",
              "    </tr>\n",
              "    <tr>\n",
              "      <th>6</th>\n",
              "      <td>2025-01-15 06:00</td>\n",
              "      <td>2025-01-15 08:00</td>\n",
              "      <td>X-59/X-69</td>\n",
              "      <td>Belgorod oblast</td>\n",
              "      <td>Ukraine</td>\n",
              "      <td>NaN</td>\n",
              "      <td>4.0</td>\n",
              "      <td>4</td>\n",
              "      <td>NaN</td>\n",
              "      <td>NaN</td>\n",
              "      <td>NaN</td>\n",
              "      <td>NaN</td>\n",
              "      <td>NaN</td>\n",
              "      <td>NaN</td>\n",
              "      <td>NaN</td>\n",
              "      <td>kpszsu/posts/pfbid0kLxxfDQRTeUt5wQT5eahJVkW1fb...</td>\n",
              "    </tr>\n",
              "    <tr>\n",
              "      <th>7</th>\n",
              "      <td>2025-01-15 06:00</td>\n",
              "      <td>2025-01-15 08:00</td>\n",
              "      <td>X-22/X-32</td>\n",
              "      <td>Tula oblast</td>\n",
              "      <td>Ukraine</td>\n",
              "      <td>Tu-22M3</td>\n",
              "      <td>7.0</td>\n",
              "      <td>0</td>\n",
              "      <td>NaN</td>\n",
              "      <td>NaN</td>\n",
              "      <td>NaN</td>\n",
              "      <td>NaN</td>\n",
              "      <td>NaN</td>\n",
              "      <td>NaN</td>\n",
              "      <td>NaN</td>\n",
              "      <td>kpszsu/posts/pfbid0kLxxfDQRTeUt5wQT5eahJVkW1fb...</td>\n",
              "    </tr>\n",
              "    <tr>\n",
              "      <th>8</th>\n",
              "      <td>2025-01-15 06:00</td>\n",
              "      <td>2025-01-15 08:00</td>\n",
              "      <td>X-101/X-555</td>\n",
              "      <td>Volgograd oblast</td>\n",
              "      <td>Ukraine</td>\n",
              "      <td>Tu-95MS</td>\n",
              "      <td>27.0</td>\n",
              "      <td>23</td>\n",
              "      <td>NaN</td>\n",
              "      <td>NaN</td>\n",
              "      <td>NaN</td>\n",
              "      <td>NaN</td>\n",
              "      <td>{'west': 20}</td>\n",
              "      <td>NaN</td>\n",
              "      <td>NaN</td>\n",
              "      <td>kpszsu/posts/pfbid0kLxxfDQRTeUt5wQT5eahJVkW1fb...</td>\n",
              "    </tr>\n",
              "    <tr>\n",
              "      <th>9</th>\n",
              "      <td>2025-01-15 06:00</td>\n",
              "      <td>2025-01-15 08:00</td>\n",
              "      <td>Kalibr</td>\n",
              "      <td>Black Sea</td>\n",
              "      <td>Ukraine</td>\n",
              "      <td>Navi</td>\n",
              "      <td>4.0</td>\n",
              "      <td>3</td>\n",
              "      <td>NaN</td>\n",
              "      <td>NaN</td>\n",
              "      <td>NaN</td>\n",
              "      <td>NaN</td>\n",
              "      <td>{'south': 1}</td>\n",
              "      <td>NaN</td>\n",
              "      <td>NaN</td>\n",
              "      <td>kpszsu/posts/pfbid0kLxxfDQRTeUt5wQT5eahJVkW1fb...</td>\n",
              "    </tr>\n",
              "  </tbody>\n",
              "</table>\n",
              "</div>"
            ],
            "text/plain": [
              "         time_start          time_end             model  \\\n",
              "0  2025-01-18 20:00  2025-01-19 09:00    Shahed-136/131   \n",
              "1  2025-01-17 19:00  2025-01-18 08:00    Shahed-136/131   \n",
              "2  2025-01-16 19:00  2025-01-17 09:00    Shahed-136/131   \n",
              "3  2025-01-16 19:00  2025-01-17 09:00  Iskander-M/KN-23   \n",
              "4  2025-01-16 19:00  2025-01-17 09:00        Iskander-M   \n",
              "5  2025-01-15 20:00  2025-01-16 09:00    Shahed-136/131   \n",
              "6  2025-01-15 06:00  2025-01-15 08:00         X-59/X-69   \n",
              "7  2025-01-15 06:00  2025-01-15 08:00         X-22/X-32   \n",
              "8  2025-01-15 06:00  2025-01-15 08:00       X-101/X-555   \n",
              "9  2025-01-15 06:00  2025-01-15 08:00            Kalibr   \n",
              "\n",
              "                                        launch_place       target  carrier  \\\n",
              "0      Bryansk oblast and Oryol oblast and Millerovo      Ukraine      NaN   \n",
              "1  Primorsko-Akhtarsk and Bryansk oblast and Mill...      Ukraine      NaN   \n",
              "2  Primorsko-Akhtarsk and Kursk oblast and Bryans...      Ukraine      NaN   \n",
              "3                 Bryansk oblast and Voronezh oblast  Kyiv oblast      NaN   \n",
              "4                                      Rostov oblast      Ukraine      NaN   \n",
              "5  Primorsko-Akhtarsk and Bryansk oblast and Oryo...      Ukraine      NaN   \n",
              "6                                    Belgorod oblast      Ukraine      NaN   \n",
              "7                                        Tula oblast      Ukraine  Tu-22M3   \n",
              "8                                   Volgograd oblast      Ukraine  Tu-95MS   \n",
              "9                                          Black Sea      Ukraine     Navi   \n",
              "\n",
              "   launched  destroyed  not_reach_goal  cross_border_belarus  back_russia  \\\n",
              "0      61.0         43            15.0                   NaN          NaN   \n",
              "1      39.0         24            14.0                   NaN          NaN   \n",
              "2      50.0         33             9.0                   NaN          NaN   \n",
              "3       4.0          2             NaN                   NaN          NaN   \n",
              "4       2.0          0             NaN                   NaN          NaN   \n",
              "5      55.0         34            18.0                   NaN          NaN   \n",
              "6       4.0          4             NaN                   NaN          NaN   \n",
              "7       7.0          0             NaN                   NaN          NaN   \n",
              "8      27.0         23             NaN                   NaN          NaN   \n",
              "9       4.0          3             NaN                   NaN          NaN   \n",
              "\n",
              "   still_attacking                                  destroyed_details  \\\n",
              "0              1.0  {'Mykolaiv oblast': NaN,    'Kyiv oblast': NaN...   \n",
              "1              NaN  {'Kherson oblast': NaN, 'Khmelnytskyi oblast':...   \n",
              "2              NaN  {'Odesa oblast and Mykolaiv oblast': 7, 'Khmel...   \n",
              "3              NaN                                                NaN   \n",
              "4              NaN                                                NaN   \n",
              "5              NaN  {'Mykolaiv oblast': 5, 'Kyiv oblast': NaN, 'Su...   \n",
              "6              NaN                                                NaN   \n",
              "7              NaN                                                NaN   \n",
              "8              NaN                                       {'west': 20}   \n",
              "9              NaN                                       {'south': 1}   \n",
              "\n",
              "  launched_details launch_place_details  \\\n",
              "0              NaN                  NaN   \n",
              "1              NaN                  NaN   \n",
              "2              NaN                  NaN   \n",
              "3              NaN                  NaN   \n",
              "4              NaN                  NaN   \n",
              "5              NaN                  NaN   \n",
              "6              NaN                  NaN   \n",
              "7              NaN                  NaN   \n",
              "8              NaN                  NaN   \n",
              "9              NaN                  NaN   \n",
              "\n",
              "                                              source  \n",
              "0  kpszsu/posts/pfbid0meYNAsX4voALE4SXunVpzKTwzrJ...  \n",
              "1  kpszsu/posts/pfbid0Rpzfu7u9ERu4o49Gm12eqSogKvZ...  \n",
              "2  kpszsu/posts/pfbid0Gvye9Wn2gj8RPiiGaTQFGRas9Yg...  \n",
              "3  kpszsu/posts/pfbid0Rpzfu7u9ERu4o49Gm12eqSogKvZ...  \n",
              "4  kpszsu/posts/pfbid0Gvye9Wn2gj8RPiiGaTQFGRas9Yg...  \n",
              "5  kpszsu/posts/pfbid0tPwzQHvvr63PbehDshED2WNV2vm...  \n",
              "6  kpszsu/posts/pfbid0kLxxfDQRTeUt5wQT5eahJVkW1fb...  \n",
              "7  kpszsu/posts/pfbid0kLxxfDQRTeUt5wQT5eahJVkW1fb...  \n",
              "8  kpszsu/posts/pfbid0kLxxfDQRTeUt5wQT5eahJVkW1fb...  \n",
              "9  kpszsu/posts/pfbid0kLxxfDQRTeUt5wQT5eahJVkW1fb...  "
            ]
          },
          "execution_count": 808,
          "metadata": {},
          "output_type": "execute_result"
        }
      ],
      "source": [
        "df.head(10)"
      ]
    },
    {
      "cell_type": "markdown",
      "metadata": {
        "id": "1PtkLHWj2lq0"
      },
      "source": [
        "14. Отримайте інформацію про форму датафрейму."
      ]
    },
    {
      "cell_type": "code",
      "execution_count": 809,
      "metadata": {
        "id": "CBPTYTjV2mtG"
      },
      "outputs": [
        {
          "data": {
            "text/plain": [
              "(2044, 16)"
            ]
          },
          "execution_count": 809,
          "metadata": {},
          "output_type": "execute_result"
        }
      ],
      "source": [
        "df.shape"
      ]
    },
    {
      "cell_type": "markdown",
      "metadata": {
        "id": "GDVcFC6F2yVz"
      },
      "source": [
        "15. Отримайте дані про кожну колонку з її назвою, типом даних та кількістю непустих значень."
      ]
    },
    {
      "cell_type": "code",
      "execution_count": 810,
      "metadata": {
        "id": "GTRgfKJ920bn"
      },
      "outputs": [
        {
          "name": "stdout",
          "output_type": "stream",
          "text": [
            "<class 'pandas.core.frame.DataFrame'>\n",
            "RangeIndex: 2044 entries, 0 to 2043\n",
            "Data columns (total 16 columns):\n",
            " #   Column                Non-Null Count  Dtype  \n",
            "---  ------                --------------  -----  \n",
            " 0   time_start            2044 non-null   object \n",
            " 1   time_end              2044 non-null   object \n",
            " 2   model                 2044 non-null   object \n",
            " 3   launch_place          1023 non-null   object \n",
            " 4   target                2016 non-null   object \n",
            " 5   carrier               225 non-null    object \n",
            " 6   launched              2041 non-null   float64\n",
            " 7   destroyed             2044 non-null   int64  \n",
            " 8   not_reach_goal        157 non-null    float64\n",
            " 9   cross_border_belarus  32 non-null     float64\n",
            " 10  back_russia           34 non-null     float64\n",
            " 11  still_attacking       28 non-null     float64\n",
            " 12  destroyed_details     294 non-null    object \n",
            " 13  launched_details      4 non-null      object \n",
            " 14  launch_place_details  4 non-null      object \n",
            " 15  source                2044 non-null   object \n",
            "dtypes: float64(5), int64(1), object(10)\n",
            "memory usage: 255.6+ KB\n"
          ]
        }
      ],
      "source": [
        "df.info()"
      ]
    },
    {
      "cell_type": "markdown",
      "metadata": {
        "id": "DEy-hgsw2452"
      },
      "source": [
        "16. Отримайте статистику для колонок числового типу."
      ]
    },
    {
      "cell_type": "code",
      "execution_count": 811,
      "metadata": {
        "id": "94mI2N9t267Q"
      },
      "outputs": [
        {
          "name": "stdout",
          "output_type": "stream",
          "text": [
            "1.0\n",
            "193.0\n",
            "2.0\n"
          ]
        }
      ],
      "source": [
        "print(df[\"not_reach_goal\"].min())\n",
        "print(df[\"launched\"].max())\n",
        "print(df[\"back_russia\"].mean())"
      ]
    },
    {
      "cell_type": "markdown",
      "metadata": {
        "id": "n0MGJU2C2-iD"
      },
      "source": [
        "17. Отримати кількість унікальних значень у кожній колонці. Вивести на екран значення та кількість цих значень у колонці, яка має найменше унікальних значень."
      ]
    },
    {
      "cell_type": "code",
      "execution_count": 812,
      "metadata": {
        "id": "lQh_jdGe3BK5"
      },
      "outputs": [
        {
          "data": {
            "text/plain": [
              "time_start               864\n",
              "time_end                1015\n",
              "model                     61\n",
              "launch_place             135\n",
              "target                    97\n",
              "carrier                   58\n",
              "launched                 113\n",
              "destroyed                 81\n",
              "not_reach_goal            55\n",
              "cross_border_belarus       7\n",
              "back_russia                5\n",
              "still_attacking            8\n",
              "destroyed_details        290\n",
              "launched_details           4\n",
              "launch_place_details       4\n",
              "source                   960\n",
              "dtype: int64"
            ]
          },
          "execution_count": 812,
          "metadata": {},
          "output_type": "execute_result"
        }
      ],
      "source": [
        "df.nunique()"
      ]
    },
    {
      "cell_type": "code",
      "execution_count": 813,
      "metadata": {},
      "outputs": [
        {
          "data": {
            "text/plain": [
              "np.int64(4)"
            ]
          },
          "execution_count": 813,
          "metadata": {},
          "output_type": "execute_result"
        }
      ],
      "source": [
        "df.nunique().min()"
      ]
    },
    {
      "cell_type": "markdown",
      "metadata": {
        "id": "iVRkzUti3uC_"
      },
      "source": [
        "18. На основі отриманої інформації про датасет вище, опишіть по пунктах, що б ви виправили або на що б звернули увагу на кроці очищення даних і чому?"
      ]
    },
    {
      "cell_type": "markdown",
      "metadata": {
        "id": "9_Q-Fcuo30zY"
      },
      "source": [
        "**місце для текстової відповіді**\n",
        "\n",
        "1.   convert all colums to right datatype\n",
        "2.   remove all duplicates\n",
        "3.   remove all imposible values"
      ]
    },
    {
      "cell_type": "markdown",
      "metadata": {
        "id": "Ue9ECz5-3_pq"
      },
      "source": [
        "# V. Data Cleaning"
      ]
    },
    {
      "cell_type": "markdown",
      "metadata": {
        "id": "ZtHUiSrV4CL-"
      },
      "source": [
        "19. Перетворити колонку launched у цілочислену (Int64). Перевірити, чи все пройшло, як очікувалось."
      ]
    },
    {
      "cell_type": "code",
      "execution_count": 814,
      "metadata": {
        "id": "AWyo_-Un3xqz"
      },
      "outputs": [
        {
          "name": "stdout",
          "output_type": "stream",
          "text": [
            "Cannot convert non-finite values (NA or inf) to integer\n"
          ]
        }
      ],
      "source": [
        "try:\n",
        "    df[\"launched\"] = df[\"launched\"].astype(int)\n",
        "except Exception as error:\n",
        "    print(error)"
      ]
    },
    {
      "cell_type": "code",
      "execution_count": 815,
      "metadata": {
        "id": "ys_OfWeQ4OjW"
      },
      "outputs": [
        {
          "data": {
            "text/plain": [
              "dtype('float64')"
            ]
          },
          "execution_count": 815,
          "metadata": {},
          "output_type": "execute_result"
        }
      ],
      "source": [
        "df[\"launched\"].dtype"
      ]
    },
    {
      "cell_type": "markdown",
      "metadata": {
        "id": "KsHhM4EM4O3d"
      },
      "source": [
        "20. Видалити колонки, де кількість непустих значень становить менше 30% від загальної кількості записів."
      ]
    },
    {
      "cell_type": "code",
      "execution_count": 816,
      "metadata": {
        "id": "Z1ZCclle4Vyk"
      },
      "outputs": [
        {
          "data": {
            "text/plain": [
              "('Original columns:\\n',\n",
              " Index(['time_start', 'time_end', 'model', 'launch_place', 'target', 'carrier',\n",
              "        'launched', 'destroyed', 'not_reach_goal', 'cross_border_belarus',\n",
              "        'back_russia', 'still_attacking', 'destroyed_details',\n",
              "        'launched_details', 'launch_place_details', 'source'],\n",
              "       dtype='object'))"
            ]
          },
          "execution_count": 816,
          "metadata": {},
          "output_type": "execute_result"
        }
      ],
      "source": [
        "total_rows = df.shape[0]\n",
        "\n",
        "deletion_percentage = total_rows * 0.3\n",
        "\n",
        "df_cleaned: pd.DataFrame = df.dropna(thresh=deletion_percentage, axis=1)\n",
        "\n",
        "\"Original columns:\\n\", df.columns"
      ]
    },
    {
      "cell_type": "code",
      "execution_count": 817,
      "metadata": {
        "id": "MGrORLGe4XA2"
      },
      "outputs": [
        {
          "data": {
            "text/plain": [
              "('Columns after cleaning:\\n',\n",
              " Index(['time_start', 'time_end', 'model', 'launch_place', 'target', 'launched',\n",
              "        'destroyed', 'source'],\n",
              "       dtype='object'))"
            ]
          },
          "execution_count": 817,
          "metadata": {},
          "output_type": "execute_result"
        }
      ],
      "source": [
        "\"Columns after cleaning:\\n\", df_cleaned.columns"
      ]
    },
    {
      "cell_type": "markdown",
      "metadata": {
        "id": "p8cD0M0U4cNT"
      },
      "source": [
        "21. Очистити датафрейм від дублікатів (дублюючихся рядків) та записів, де атака продовжувалась відʼємну або нульову кількість часу (що фізично неможливо). Не забудьте оновити індекс. Скільки рядків було видалено? Як ви це перевірили у коді?"
      ]
    },
    {
      "cell_type": "code",
      "execution_count": 818,
      "metadata": {
        "id": "in3Fvn0I4l-I"
      },
      "outputs": [
        {
          "name": "stderr",
          "output_type": "stream",
          "text": [
            "C:\\Users\\Bering\\AppData\\Local\\Temp\\ipykernel_14712\\2567276174.py:1: SettingWithCopyWarning: \n",
            "A value is trying to be set on a copy of a slice from a DataFrame.\n",
            "Try using .loc[row_indexer,col_indexer] = value instead\n",
            "\n",
            "See the caveats in the documentation: https://pandas.pydata.org/pandas-docs/stable/user_guide/indexing.html#returning-a-view-versus-a-copy\n",
            "  df_cleaned['time_start'] = pd.to_datetime(df_cleaned['time_start'], format=\"mixed\", errors='coerce')\n",
            "C:\\Users\\Bering\\AppData\\Local\\Temp\\ipykernel_14712\\2567276174.py:2: SettingWithCopyWarning: \n",
            "A value is trying to be set on a copy of a slice from a DataFrame.\n",
            "Try using .loc[row_indexer,col_indexer] = value instead\n",
            "\n",
            "See the caveats in the documentation: https://pandas.pydata.org/pandas-docs/stable/user_guide/indexing.html#returning-a-view-versus-a-copy\n",
            "  df_cleaned['time_end'] = pd.to_datetime(df_cleaned['time_end'], format=\"mixed\", errors='coerce')\n"
          ]
        },
        {
          "data": {
            "text/plain": [
              "np.int64(0)"
            ]
          },
          "execution_count": 818,
          "metadata": {},
          "output_type": "execute_result"
        }
      ],
      "source": [
        "df_cleaned['time_start'] = pd.to_datetime(df_cleaned['time_start'], format=\"mixed\", errors='coerce')\n",
        "df_cleaned['time_end'] = pd.to_datetime(df_cleaned['time_end'], format=\"mixed\", errors='coerce')\n",
        "\n",
        "df_cleaned = df_cleaned.dropna(subset=['time_start', 'time_end'])\n",
        "\n",
        "df_cleaned['attack_duration'] = (df_cleaned['time_end'] - df_cleaned['time_start']).dt.total_seconds()\n",
        "\n",
        "initial_rows = df_cleaned.shape[0]\n",
        "df_cleaned = df_cleaned[df_cleaned['attack_duration'] > 0]\n",
        "final_rows = df_cleaned.shape[0]\n",
        "\n",
        "df_cleaned.reset_index(drop=True, inplace=True)\n",
        "\n",
        "df_cleaned.duplicated().sum()"
      ]
    },
    {
      "cell_type": "code",
      "execution_count": 819,
      "metadata": {},
      "outputs": [
        {
          "data": {
            "text/plain": [
              "'Removed 836 rows'"
            ]
          },
          "execution_count": 819,
          "metadata": {},
          "output_type": "execute_result"
        }
      ],
      "source": [
        "removed_rows = initial_rows - final_rows\n",
        "f'Removed {removed_rows} rows'"
      ]
    },
    {
      "cell_type": "markdown",
      "metadata": {
        "id": "8zqL82Ie4nqY"
      },
      "source": [
        "**місце для текстової відповіді**"
      ]
    },
    {
      "cell_type": "markdown",
      "metadata": {},
      "source": [
        "Dataset has no dublicates and there was removed 836 rows"
      ]
    },
    {
      "cell_type": "markdown",
      "metadata": {
        "id": "6oZ7C_ry4uvb"
      },
      "source": [
        "22. Виведіть на екран всі рядки, де є хоч одне пропущене значення."
      ]
    },
    {
      "cell_type": "code",
      "execution_count": 821,
      "metadata": {
        "id": "BPmCTDtg4wVS"
      },
      "outputs": [
        {
          "data": {
            "text/plain": [
              "time_start         1208\n",
              "time_end           1208\n",
              "model              1208\n",
              "launch_place       1208\n",
              "target             1208\n",
              "launched           1208\n",
              "destroyed          1208\n",
              "source             1208\n",
              "attack_duration    1208\n",
              "dtype: int64"
            ]
          },
          "execution_count": 821,
          "metadata": {},
          "output_type": "execute_result"
        }
      ],
      "source": [
        "df_cleaned.isna().count()"
      ]
    }
  ],
  "metadata": {
    "colab": {
      "collapsed_sections": [
        "dwSyU2AjXwc-"
      ],
      "provenance": []
    },
    "kernelspec": {
      "display_name": "Python 3",
      "name": "python3"
    },
    "language_info": {
      "codemirror_mode": {
        "name": "ipython",
        "version": 3
      },
      "file_extension": ".py",
      "mimetype": "text/x-python",
      "name": "python",
      "nbconvert_exporter": "python",
      "pygments_lexer": "ipython3",
      "version": "3.12.6"
    }
  },
  "nbformat": 4,
  "nbformat_minor": 0
}
